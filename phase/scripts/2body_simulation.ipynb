{
 "cells": [
  {
   "cell_type": "code",
   "execution_count": null,
   "metadata": {},
   "outputs": [],
   "source": [
    "import numpy as np\n",
    "import matplotlib.pyplot as plt"
   ]
  },
  {
   "cell_type": "code",
   "execution_count": null,
   "metadata": {},
   "outputs": [],
   "source": [
    "def map2R(ss):\n",
    "    return np.sqrt(np.mean(np.cos(ss), axis=1)**2 + np.mean(np.sin(ss), axis=1)**2)\n",
    "\n",
    "def theoretical_R(K, w):\n",
    "    if K >= w:\n",
    "        return np.cos(0.5 * np.arcsin(w / K))\n",
    "    else:\n",
    "        Z = np.pi / np.sqrt(w**2 - K**2)\n",
    "\n",
    "        x = np.linspace(-np.pi / 2, np.pi / 2, 10000)\n",
    "        f_x = np.cos(x) / (w - K * np.sin(2 * x))\n",
    "        return np.sum(f_x * (x[1] - x[0])) / Z\n",
    "\n",
    "\n",
    "w = 1\n",
    "K_list = np.linspace(0, 10., 10000)\n",
    "R_list = np.array([theoretical_R(K, w) for K in K_list])\n",
    "\n",
    "plt.plot(K_list, R_list)\n",
    "plt.ylim((-0.01, 1.01))"
   ]
  },
  {
   "cell_type": "code",
   "execution_count": null,
   "metadata": {},
   "outputs": [],
   "source": [
    "beta = 10.0\n",
    "\n",
    "for R_limit in [0.6, 0.7, 0.9, 0.99]:\n",
    "    limited_f = np.where(R_list > R_limit, np.exp(- beta * K_list), 0.)\n",
    "    limited_p = limited_f / (np.sum(limited_f) * (K_list[1] - K_list[0]))\n",
    "\n",
    "    plt.plot(K_list, np.where(limited_p > 0, limited_p, 0.), label=f\"$R^*={R_limit}$\")\n",
    "plt.legend()"
   ]
  },
  {
   "cell_type": "code",
   "execution_count": null,
   "metadata": {},
   "outputs": [],
   "source": [
    "import simulate\n",
    "\n",
    "def acc_test(K, w, label=None):\n",
    "    model = simulate.OscilatorNetwork()\n",
    "    sampling_times = np.linspace(0, 1000, 10000)\n",
    "    ss = model.solve_ivp(np.array([[0, K], [K, 0]]), w0=np.array([-w, w]), sampling_times=sampling_times)\n",
    "    R_actuals = map2R(ss)\n",
    "    \n",
    "    R_theory = theoretical_R(K, w)\n",
    "    dR = [np.mean(R_actuals[:n]) - R_theory for n in range(1, ss.shape[0])]\n",
    "    \n",
    "    plt.plot(sampling_times[1:], np.abs(dR), label=f\"K = {K:.4f}, w = {w:.4f}\" if label is None else label)\n",
    "    \n",
    "\n",
    "w = 1.0\n",
    "for K in [0.9, 0.95, 0.99, 1.01, 1.05, 1.1]:\n",
    "    acc_test(K, w, label=f\"K = {K}\")\n",
    "\n",
    "plt.yscale(\"log\")\n",
    "plt.legend()"
   ]
  },
  {
   "cell_type": "code",
   "execution_count": null,
   "metadata": {},
   "outputs": [],
   "source": [
    "def acc_test_rk4(K, w, label=None, dt=0.01):\n",
    "    model = simulate.OscilatorNetwork()\n",
    "    samping_times, ss = model.solve_rk4(np.array([[0, K], [K, 0]]), w0=np.array([-w, w]), T=1000, dt=dt)\n",
    "    R_actuals = map2R(ss)\n",
    "    \n",
    "    R_theory = theoretical_R(K, w)\n",
    "    dR = [np.mean(R_actuals[:n]) - R_theory for n in range(1, ss.shape[0])]\n",
    "    \n",
    "    plt.plot(samping_times[1:], np.abs(dR), label=f\"K = {K:.4f}, w = {w:.4f}\" if label is None else label)\n",
    "    \n",
    "\n",
    "w = 1.0\n",
    "for K in [0.9, 0.95, 0.99, 1.01, 1.05, 1.1]:\n",
    "    acc_test_rk4(K, w, label=f\"K = {K}\")\n",
    "\n",
    "x = np.linspace(0.01, 1000, 10000)\n",
    "plt.plot(x, 1 / x, c=\"black\", label=\"1/t\")\n",
    "plt.yscale(\"log\")\n",
    "plt.xscale(\"log\")\n",
    "plt.legend()"
   ]
  },
  {
   "cell_type": "code",
   "execution_count": null,
   "metadata": {},
   "outputs": [],
   "source": [
    "def acc_test_rk4_with_burnin(K, w, label=None, burn_in=100):\n",
    "    model = simulate.OscilatorNetwork()\n",
    "    samping_times, ss = model.solve_rk4(np.array([[0, K], [K, 0]]), w0=np.array([-w, w]), T=1000)\n",
    "    \n",
    "    ss = ss[samping_times > burn_in]\n",
    "    samping_times = samping_times[samping_times > burn_in]\n",
    "    \n",
    "    R_actuals = map2R(ss)\n",
    "    \n",
    "    R_theory = theoretical_R(K, w)\n",
    "    dR = [np.mean(R_actuals[:n]) - R_theory for n in range(1, ss.shape[0])]\n",
    "    \n",
    "    plt.plot(samping_times[1:], np.abs(dR), label=f\"K = {K:.4f}, w = {w:.4f}\" if label is None else label)\n",
    "    \n",
    "\n",
    "w = 1.0\n",
    "for K in [0.9, 0.95, 0.99, 1.01, 1.05, 1.1]:\n",
    "    acc_test_rk4_with_burnin(K, w, label=f\"K = {K}\")\n",
    "\n",
    "plt.yscale(\"log\")\n",
    "plt.legend()"
   ]
  },
  {
   "cell_type": "code",
   "execution_count": null,
   "metadata": {},
   "outputs": [],
   "source": [
    "def acc_test_rk4_trapezoid(K, w, label=None):\n",
    "    model = simulate.OscilatorNetwork()\n",
    "    samping_times, ss = model.solve_rk4(np.array([[0, K], [K, 0]]), w0=np.array([-w, w]), T=1000)\n",
    "    R_actuals = map2R(ss)\n",
    "    \n",
    "    R_theory = theoretical_R(K, w)\n",
    "    def trapezoid(t, x):\n",
    "        n = x.shape[0]\n",
    "        return ((x[-1] + x[0]) / 2 + np.sum(x[1:-1])) / n\n",
    "    dR = [trapezoid(samping_times, R_actuals[:n]) - R_theory for n in range(1, ss.shape[0])]\n",
    "    \n",
    "    plt.plot(samping_times[1:], np.abs(dR), label=f\"K = {K:.4f}, w = {w:.4f}\" if label is None else label)\n",
    "    \n",
    "\n",
    "w = 1.0\n",
    "for K in [0.9, 0.95, 0.99, 1.01, 1.05, 1.1]:\n",
    "    acc_test_rk4_trapezoid(K, w, label=f\"K = {K}\")\n",
    "\n",
    "plt.yscale(\"log\")\n",
    "plt.legend()"
   ]
  },
  {
   "cell_type": "code",
   "execution_count": null,
   "metadata": {},
   "outputs": [],
   "source": [
    "def acc_test_rk4_simpson(K, w, label=None):\n",
    "    model = simulate.OscilatorNetwork()\n",
    "    samping_times, ss = model.solve_rk4(np.array([[0, K], [K, 0]]), w0=np.array([-w, w]), T=1000)\n",
    "    R_actuals = map2R(ss)\n",
    "    \n",
    "    R_theory = theoretical_R(K, w)\n",
    "    def simpson(t, x):\n",
    "        n = x.shape[0]\n",
    "        return ((x[0] + x[-1]) + (x[1] + x[-2]) * 5 + np.sum(x[2:-3]) * 6) / (6*n)\n",
    "    dR = [simpson(samping_times, R_actuals[:n]) - R_theory for n in range(5, ss.shape[0])]\n",
    "    \n",
    "    plt.plot(samping_times[5:], np.abs(dR), label=f\"K = {K:.4f}, w = {w:.4f}\" if label is None else label)\n",
    "    \n",
    "\n",
    "w = 1.0\n",
    "for K in [0.9, 0.95, 0.99, 1.01, 1.05, 1.1]:\n",
    "    acc_test_rk4_simpson(K, w, label=f\"K = {K}\")\n",
    "\n",
    "plt.yscale(\"log\")\n",
    "plt.legend()"
   ]
  },
  {
   "cell_type": "code",
   "execution_count": null,
   "metadata": {},
   "outputs": [],
   "source": [
    "w = 1.0\n",
    "K = 0.99\n",
    "acc_test_rk4(K, w, label=f\"square\")\n",
    "acc_test_rk4_trapezoid(K, w, label=f\"trapezoid\")\n",
    "acc_test_rk4_simpson(K, w, label=f\"simpson\")\n",
    "plt.yscale(\"log\")\n",
    "plt.legend()"
   ]
  },
  {
   "cell_type": "code",
   "execution_count": null,
   "metadata": {},
   "outputs": [],
   "source": [
    "w = 1.0\n",
    "K = 0.99\n",
    "for dt in [0.1, 0.01, 0.001]:\n",
    "    acc_test_rk4(K, w, label=f\"dt = {dt:.4f}\", dt=dt)\n",
    "plt.yscale(\"log\")\n",
    "plt.legend()"
   ]
  }
 ],
 "metadata": {
  "kernelspec": {
   "display_name": "Python 3",
   "language": "python",
   "name": "python3"
  },
  "language_info": {
   "codemirror_mode": {
    "name": "ipython",
    "version": 3
   },
   "file_extension": ".py",
   "mimetype": "text/x-python",
   "name": "python",
   "nbconvert_exporter": "python",
   "pygments_lexer": "ipython3",
   "version": "3.10.12"
  },
  "orig_nbformat": 4
 },
 "nbformat": 4,
 "nbformat_minor": 2
}
